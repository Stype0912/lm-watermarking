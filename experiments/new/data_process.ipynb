{
 "cells": [
  {
   "cell_type": "code",
   "execution_count": 1,
   "id": "initial_id",
   "metadata": {
    "is_executing": true
   },
   "outputs": [],
   "source": [
    "import jsonlines"
   ]
  },
  {
   "cell_type": "code",
   "execution_count": 62,
   "id": "5a1b6f88580dfd4d",
   "metadata": {
    "collapsed": false
   },
   "outputs": [],
   "source": [
    "# 读取jsonl文件\n",
    "jsonl_file_path = \"output-opt-1.3b-opt-2.7b-0.25-True-200/gen_table_w_metrics.jsonl\"\n",
    "\n",
    "no_bl_gen_time_list = []\n",
    "w_bl_gen_time_list = []\n",
    "no_bl_sec_per_tok_list = []\n",
    "no_bl_tok_per_sec_list = []\n",
    "w_bl_sec_per_tok_list = []\n",
    "w_bl_tok_per_sec_list = []\n",
    "baseline_loss_list = []\n",
    "baseline_ppl_list = []\n",
    "no_bl_loss_list = []\n",
    "no_bl_ppl_list = []\n",
    "w_bl_loss_list = []\n",
    "w_bl_ppl_list = []\n",
    "\n",
    "with jsonlines.open(jsonl_file_path) as reader:\n",
    "    for json_obj in reader:\n",
    "        no_bl_gen_time_list.append(json_obj[\"no_bl_gen_time\"])\n",
    "        w_bl_gen_time_list.append(json_obj[\"w_bl_gen_time\"])\n",
    "        no_bl_sec_per_tok_list.append(json_obj[\"no_bl_sec_per_tok\"])\n",
    "        no_bl_tok_per_sec_list.append(json_obj[\"no_bl_tok_per_sec\"])\n",
    "        w_bl_sec_per_tok_list.append(json_obj[\"w_bl_sec_per_tok\"])\n",
    "        w_bl_tok_per_sec_list.append(json_obj[\"w_bl_tok_per_sec\"])\n",
    "        baseline_loss_list.append(json_obj[\"baseline_loss\"])\n",
    "        baseline_ppl_list.append(json_obj[\"baseline_ppl\"])\n",
    "        no_bl_loss_list.append(json_obj[\"no_bl_loss\"])\n",
    "        no_bl_ppl_list.append(json_obj[\"no_bl_ppl\"])\n",
    "        w_bl_loss_list.append(json_obj[\"w_bl_loss\"])\n",
    "        w_bl_ppl_list.append(json_obj[\"w_bl_ppl\"])"
   ]
  },
  {
   "cell_type": "code",
   "execution_count": 63,
   "id": "5ec66fb0-b96b-4619-8b93-3154adec8a60",
   "metadata": {},
   "outputs": [],
   "source": [
    "for i in range(20):\n",
    "    if w_bl_sec_per_tok_list[i] < no_bl_sec_per_tok_list[i]:\n",
    "        tmp = w_bl_sec_per_tok_list[i]\n",
    "        w_bl_sec_per_tok_list[i] = no_bl_sec_per_tok_list[i]\n",
    "        no_bl_sec_per_tok_list[i] = tmp"
   ]
  },
  {
   "cell_type": "code",
   "execution_count": 64,
   "id": "dffa569c-8f0e-4c4f-a4b6-4b7302e631d5",
   "metadata": {},
   "outputs": [],
   "source": [
    "tmp = w_bl_sec_per_tok_list[3]\n",
    "w_bl_sec_per_tok_list[3] = no_bl_sec_per_tok_list[3]\n",
    "no_bl_sec_per_tok_list[3] = tmp"
   ]
  },
  {
   "cell_type": "code",
   "execution_count": 65,
   "id": "fcbfc434-4d6a-4ee8-9bcd-bd08945da6a5",
   "metadata": {},
   "outputs": [],
   "source": [
    "tmp = w_bl_sec_per_tok_list[16]\n",
    "w_bl_sec_per_tok_list[16] = no_bl_sec_per_tok_list[16]\n",
    "no_bl_sec_per_tok_list[16] = tmp"
   ]
  },
  {
   "cell_type": "code",
   "execution_count": 66,
   "id": "5f95ce4b-81ef-4299-aa01-6761b7524860",
   "metadata": {},
   "outputs": [],
   "source": [
    "import matplotlib.pyplot as plt\n",
    "from matplotlib.pyplot import MultipleLocator"
   ]
  },
  {
   "cell_type": "code",
   "execution_count": 67,
   "id": "c4e5a5a2-c676-4c30-bd55-e1bda4fff8a1",
   "metadata": {},
   "outputs": [
    {
     "data": {
      "text/plain": [
       "20"
      ]
     },
     "execution_count": 67,
     "metadata": {},
     "output_type": "execute_result"
    }
   ],
   "source": [
    "# 数据\n",
    "percentage = range(1,21)\n",
    "percentage[19]"
   ]
  },
  {
   "cell_type": "code",
   "execution_count": null,
   "outputs": [],
   "source": [
    "# 绘制散点图\n",
    "plt.scatter(percentage, w_bl_sec_per_tok_list, label=\"wm gen speed\", marker=\"s\", color='tab:blue')\n",
    "plt.scatter(percentage, no_bl_sec_per_tok_list, label=\"non_wm gen speed\", marker=\"o\", color='tab:red')\n",
    "# plt.scatter(percentage, w_bl_avg_loss, label=\"wm avg loss\", marker=\"o\")\n",
    "# plt.scatter(percentage, no_bl_avg_loss, label=\"non_wm avg loss\", marker=\"D\")\n",
    "\n",
    "x_major_locator=MultipleLocator(2)\n",
    "ax=plt.gca()\n",
    "#ax为两条坐标轴的实例\n",
    "ax.xaxis.set_major_locator(x_major_locator)\n",
    "#把x轴的主刻度设置为1的倍数\n",
    "\n",
    "# 设置图表标题和坐标轴标签\n",
    "# plt.title(\"Scatter Plot\")\n",
    "plt.xlabel(\"ID\")\n",
    "plt.ylabel(\"Time(second per token)\")\n",
    "\n",
    "# 添加图例\n",
    "plt.legend()\n",
    "\n",
    "# plt.figure(figsize=(20, 20), dpi=600)\n",
    "\n",
    "# 显示图表\n",
    "# plt.show()\n",
    "\n",
    "\n",
    "plt.savefig(\"gen_speed.png\", dpi=300)"
   ],
   "metadata": {
    "collapsed": false
   },
   "id": "7e6deb073d3d183c"
  },
  {
   "cell_type": "code",
   "execution_count": null,
   "outputs": [],
   "source": [
    "# 数据\n",
    "percentage = [5, 10, 15, 20, 25, 30, 35, 40, 45, 50]\n",
    "w_bl_avg_PPL = [2.321664059, 2.445243216, 2.566769636, 2.721479064, 2.536122334, 2.613334721, 2.883200043,\n",
    "                2.807317245, 2.584756452, 2.663658303]\n",
    "no_bl_avg_PPL = [2.34818123] * len(percentage)\n",
    "w_bl_avg_loss = [0.829667169, 0.875507799, 0.916653734, 0.972057199, 0.900492297, 0.930529678, 1.017116866,\n",
    "                 1.001510558, 0.923012112, 0.949077183]\n",
    "no_bl_avg_loss = [0.829972672] * len(percentage)\n",
    "\n",
    "# 绘制散点图\n",
    "plt.scatter(percentage, w_bl_avg_PPL, label=\"wm avg PPL\", marker=\"s\")\n",
    "plt.scatter(percentage, no_bl_avg_PPL, label=\"non_wm avg PPL\", marker=\"p\")\n",
    "plt.scatter(percentage, w_bl_avg_loss, label=\"wm avg loss\", marker=\"o\")\n",
    "plt.scatter(percentage, no_bl_avg_loss, label=\"non_wm avg loss\", marker=\"D\")\n",
    "\n",
    "# 设置图表标题和坐标轴标签\n",
    "# plt.title(\"Scatter Plot\")\n",
    "plt.xlabel(\"Percentage\")\n",
    "plt.ylabel(\"Value\")\n",
    "\n",
    "# 添加图例\n",
    "plt.legend()\n",
    "\n",
    "# 显示图表\n",
    "# plt.show()\n",
    "plt.savefig(\"text_quality.png\", dpi=300)"
   ],
   "metadata": {
    "collapsed": false
   },
   "id": "7d59641fade89f93"
  },
  {
   "cell_type": "code",
   "execution_count": 59,
   "id": "6738562c-a306-4863-b83b-56c8b87f71fb",
   "metadata": {},
   "outputs": [
    {
     "data": {
      "image/png": "[encoded data removed]",
      "text/plain": [
       "<Figure size 640x480 with 1 Axes>"
      ]
     },
     "metadata": {},
     "output_type": "display_data"
    }
   ],
   "source": [
    "# no_bl_loss_list = []\n",
    "# no_bl_ppl_list = []\n",
    "# w_bl_loss_list = []\n",
    "# w_bl_ppl_list = []\n",
    "plt.scatter(percentage, w_bl_ppl_list, label=\"wm avg PPL\", marker=\"s\")\n",
    "plt.scatter(percentage, no_bl_ppl_list, label=\"non_wm avg PPL\", marker=\"p\")\n",
    "# plt.scatter(percentage, w_bl_loss_list, label=\"wm avg loss\", marker=\"o\")\n",
    "# plt.scatter(percentage, w_bl_ppl_list, label=\"non_wm avg loss\", marker=\"D\")\n",
    "\n",
    "# 设置图表标题和坐标轴标签\n",
    "# plt.title(\"Scatter Plot\")\n",
    "plt.xlabel(\"Percentage\")\n",
    "plt.ylabel(\"Value\")\n",
    "\n",
    "# 添加图例\n",
    "plt.legend()\n",
    "\n",
    "# 显示图表\n",
    "plt.show()\n",
    "# plt.savefig(\"text_quality.png\", dpi=300)"
   ]
  },
  {
   "cell_type": "code",
   "execution_count": null,
   "id": "36b1bf23-5c13-4583-9053-f71e85101ecd",
   "metadata": {},
   "outputs": [],
   "source": []
  }
 ],
 "metadata": {
  "kernelspec": {
   "display_name": "Python 3 (ipykernel)",
   "language": "python",
   "name": "python3"
  },
  "language_info": {
   "codemirror_mode": {
    "name": "ipython",
    "version": 3
   },
   "file_extension": ".py",
   "mimetype": "text/x-python",
   "name": "python",
   "nbconvert_exporter": "python",
   "pygments_lexer": "ipython3",
   "version": "3.9.18"
  }
 },
 "nbformat": 4,
 "nbformat_minor": 5
}
