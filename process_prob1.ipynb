{
 "cells": [
  {
   "cell_type": "code",
   "execution_count": 2,
   "id": "66159377",
   "metadata": {
    "scrolled": true
   },
   "outputs": [
    {
     "ename": "FileNotFoundError",
     "evalue": "[Errno 2] No such file or directory: './raw.csv'",
     "output_type": "error",
     "traceback": [
      "\u001b[0;31m---------------------------------------------------------------------------\u001b[0m",
      "\u001b[0;31mFileNotFoundError\u001b[0m                         Traceback (most recent call last)",
      "Cell \u001b[0;32mIn[2], line 3\u001b[0m\n\u001b[1;32m      1\u001b[0m \u001b[38;5;28;01mimport\u001b[39;00m \u001b[38;5;21;01mpandas\u001b[39;00m \u001b[38;5;28;01mas\u001b[39;00m \u001b[38;5;21;01mpd\u001b[39;00m\n\u001b[1;32m      2\u001b[0m \u001b[38;5;28;01mimport\u001b[39;00m \u001b[38;5;21;01mnumpy\u001b[39;00m \u001b[38;5;28;01mas\u001b[39;00m \u001b[38;5;21;01mnp\u001b[39;00m\n\u001b[0;32m----> 3\u001b[0m df \u001b[38;5;241m=\u001b[39m \u001b[43mpd\u001b[49m\u001b[38;5;241;43m.\u001b[39;49m\u001b[43mread_csv\u001b[49m\u001b[43m(\u001b[49m\u001b[38;5;124;43m'\u001b[39;49m\u001b[38;5;124;43m./raw.csv\u001b[39;49m\u001b[38;5;124;43m'\u001b[39;49m\u001b[43m,\u001b[49m\u001b[43m \u001b[49m\u001b[43mheader\u001b[49m\u001b[38;5;241;43m=\u001b[39;49m\u001b[38;5;28;43;01mNone\u001b[39;49;00m\u001b[43m)\u001b[49m\n\u001b[1;32m      4\u001b[0m \u001b[38;5;28mprint\u001b[39m(df)\n",
      "File \u001b[0;32m~/miniconda3/envs/watermark/lib/python3.11/site-packages/pandas/io/parsers/readers.py:1026\u001b[0m, in \u001b[0;36mread_csv\u001b[0;34m(filepath_or_buffer, sep, delimiter, header, names, index_col, usecols, dtype, engine, converters, true_values, false_values, skipinitialspace, skiprows, skipfooter, nrows, na_values, keep_default_na, na_filter, verbose, skip_blank_lines, parse_dates, infer_datetime_format, keep_date_col, date_parser, date_format, dayfirst, cache_dates, iterator, chunksize, compression, thousands, decimal, lineterminator, quotechar, quoting, doublequote, escapechar, comment, encoding, encoding_errors, dialect, on_bad_lines, delim_whitespace, low_memory, memory_map, float_precision, storage_options, dtype_backend)\u001b[0m\n\u001b[1;32m   1013\u001b[0m kwds_defaults \u001b[38;5;241m=\u001b[39m _refine_defaults_read(\n\u001b[1;32m   1014\u001b[0m     dialect,\n\u001b[1;32m   1015\u001b[0m     delimiter,\n\u001b[0;32m   (...)\u001b[0m\n\u001b[1;32m   1022\u001b[0m     dtype_backend\u001b[38;5;241m=\u001b[39mdtype_backend,\n\u001b[1;32m   1023\u001b[0m )\n\u001b[1;32m   1024\u001b[0m kwds\u001b[38;5;241m.\u001b[39mupdate(kwds_defaults)\n\u001b[0;32m-> 1026\u001b[0m \u001b[38;5;28;01mreturn\u001b[39;00m \u001b[43m_read\u001b[49m\u001b[43m(\u001b[49m\u001b[43mfilepath_or_buffer\u001b[49m\u001b[43m,\u001b[49m\u001b[43m \u001b[49m\u001b[43mkwds\u001b[49m\u001b[43m)\u001b[49m\n",
      "File \u001b[0;32m~/miniconda3/envs/watermark/lib/python3.11/site-packages/pandas/io/parsers/readers.py:620\u001b[0m, in \u001b[0;36m_read\u001b[0;34m(filepath_or_buffer, kwds)\u001b[0m\n\u001b[1;32m    617\u001b[0m _validate_names(kwds\u001b[38;5;241m.\u001b[39mget(\u001b[38;5;124m\"\u001b[39m\u001b[38;5;124mnames\u001b[39m\u001b[38;5;124m\"\u001b[39m, \u001b[38;5;28;01mNone\u001b[39;00m))\n\u001b[1;32m    619\u001b[0m \u001b[38;5;66;03m# Create the parser.\u001b[39;00m\n\u001b[0;32m--> 620\u001b[0m parser \u001b[38;5;241m=\u001b[39m \u001b[43mTextFileReader\u001b[49m\u001b[43m(\u001b[49m\u001b[43mfilepath_or_buffer\u001b[49m\u001b[43m,\u001b[49m\u001b[43m \u001b[49m\u001b[38;5;241;43m*\u001b[39;49m\u001b[38;5;241;43m*\u001b[39;49m\u001b[43mkwds\u001b[49m\u001b[43m)\u001b[49m\n\u001b[1;32m    622\u001b[0m \u001b[38;5;28;01mif\u001b[39;00m chunksize \u001b[38;5;129;01mor\u001b[39;00m iterator:\n\u001b[1;32m    623\u001b[0m     \u001b[38;5;28;01mreturn\u001b[39;00m parser\n",
      "File \u001b[0;32m~/miniconda3/envs/watermark/lib/python3.11/site-packages/pandas/io/parsers/readers.py:1620\u001b[0m, in \u001b[0;36mTextFileReader.__init__\u001b[0;34m(self, f, engine, **kwds)\u001b[0m\n\u001b[1;32m   1617\u001b[0m     \u001b[38;5;28mself\u001b[39m\u001b[38;5;241m.\u001b[39moptions[\u001b[38;5;124m\"\u001b[39m\u001b[38;5;124mhas_index_names\u001b[39m\u001b[38;5;124m\"\u001b[39m] \u001b[38;5;241m=\u001b[39m kwds[\u001b[38;5;124m\"\u001b[39m\u001b[38;5;124mhas_index_names\u001b[39m\u001b[38;5;124m\"\u001b[39m]\n\u001b[1;32m   1619\u001b[0m \u001b[38;5;28mself\u001b[39m\u001b[38;5;241m.\u001b[39mhandles: IOHandles \u001b[38;5;241m|\u001b[39m \u001b[38;5;28;01mNone\u001b[39;00m \u001b[38;5;241m=\u001b[39m \u001b[38;5;28;01mNone\u001b[39;00m\n\u001b[0;32m-> 1620\u001b[0m \u001b[38;5;28mself\u001b[39m\u001b[38;5;241m.\u001b[39m_engine \u001b[38;5;241m=\u001b[39m \u001b[38;5;28;43mself\u001b[39;49m\u001b[38;5;241;43m.\u001b[39;49m\u001b[43m_make_engine\u001b[49m\u001b[43m(\u001b[49m\u001b[43mf\u001b[49m\u001b[43m,\u001b[49m\u001b[43m \u001b[49m\u001b[38;5;28;43mself\u001b[39;49m\u001b[38;5;241;43m.\u001b[39;49m\u001b[43mengine\u001b[49m\u001b[43m)\u001b[49m\n",
      "File \u001b[0;32m~/miniconda3/envs/watermark/lib/python3.11/site-packages/pandas/io/parsers/readers.py:1880\u001b[0m, in \u001b[0;36mTextFileReader._make_engine\u001b[0;34m(self, f, engine)\u001b[0m\n\u001b[1;32m   1878\u001b[0m     \u001b[38;5;28;01mif\u001b[39;00m \u001b[38;5;124m\"\u001b[39m\u001b[38;5;124mb\u001b[39m\u001b[38;5;124m\"\u001b[39m \u001b[38;5;129;01mnot\u001b[39;00m \u001b[38;5;129;01min\u001b[39;00m mode:\n\u001b[1;32m   1879\u001b[0m         mode \u001b[38;5;241m+\u001b[39m\u001b[38;5;241m=\u001b[39m \u001b[38;5;124m\"\u001b[39m\u001b[38;5;124mb\u001b[39m\u001b[38;5;124m\"\u001b[39m\n\u001b[0;32m-> 1880\u001b[0m \u001b[38;5;28mself\u001b[39m\u001b[38;5;241m.\u001b[39mhandles \u001b[38;5;241m=\u001b[39m \u001b[43mget_handle\u001b[49m\u001b[43m(\u001b[49m\n\u001b[1;32m   1881\u001b[0m \u001b[43m    \u001b[49m\u001b[43mf\u001b[49m\u001b[43m,\u001b[49m\n\u001b[1;32m   1882\u001b[0m \u001b[43m    \u001b[49m\u001b[43mmode\u001b[49m\u001b[43m,\u001b[49m\n\u001b[1;32m   1883\u001b[0m \u001b[43m    \u001b[49m\u001b[43mencoding\u001b[49m\u001b[38;5;241;43m=\u001b[39;49m\u001b[38;5;28;43mself\u001b[39;49m\u001b[38;5;241;43m.\u001b[39;49m\u001b[43moptions\u001b[49m\u001b[38;5;241;43m.\u001b[39;49m\u001b[43mget\u001b[49m\u001b[43m(\u001b[49m\u001b[38;5;124;43m\"\u001b[39;49m\u001b[38;5;124;43mencoding\u001b[39;49m\u001b[38;5;124;43m\"\u001b[39;49m\u001b[43m,\u001b[49m\u001b[43m \u001b[49m\u001b[38;5;28;43;01mNone\u001b[39;49;00m\u001b[43m)\u001b[49m\u001b[43m,\u001b[49m\n\u001b[1;32m   1884\u001b[0m \u001b[43m    \u001b[49m\u001b[43mcompression\u001b[49m\u001b[38;5;241;43m=\u001b[39;49m\u001b[38;5;28;43mself\u001b[39;49m\u001b[38;5;241;43m.\u001b[39;49m\u001b[43moptions\u001b[49m\u001b[38;5;241;43m.\u001b[39;49m\u001b[43mget\u001b[49m\u001b[43m(\u001b[49m\u001b[38;5;124;43m\"\u001b[39;49m\u001b[38;5;124;43mcompression\u001b[39;49m\u001b[38;5;124;43m\"\u001b[39;49m\u001b[43m,\u001b[49m\u001b[43m \u001b[49m\u001b[38;5;28;43;01mNone\u001b[39;49;00m\u001b[43m)\u001b[49m\u001b[43m,\u001b[49m\n\u001b[1;32m   1885\u001b[0m \u001b[43m    \u001b[49m\u001b[43mmemory_map\u001b[49m\u001b[38;5;241;43m=\u001b[39;49m\u001b[38;5;28;43mself\u001b[39;49m\u001b[38;5;241;43m.\u001b[39;49m\u001b[43moptions\u001b[49m\u001b[38;5;241;43m.\u001b[39;49m\u001b[43mget\u001b[49m\u001b[43m(\u001b[49m\u001b[38;5;124;43m\"\u001b[39;49m\u001b[38;5;124;43mmemory_map\u001b[39;49m\u001b[38;5;124;43m\"\u001b[39;49m\u001b[43m,\u001b[49m\u001b[43m \u001b[49m\u001b[38;5;28;43;01mFalse\u001b[39;49;00m\u001b[43m)\u001b[49m\u001b[43m,\u001b[49m\n\u001b[1;32m   1886\u001b[0m \u001b[43m    \u001b[49m\u001b[43mis_text\u001b[49m\u001b[38;5;241;43m=\u001b[39;49m\u001b[43mis_text\u001b[49m\u001b[43m,\u001b[49m\n\u001b[1;32m   1887\u001b[0m \u001b[43m    \u001b[49m\u001b[43merrors\u001b[49m\u001b[38;5;241;43m=\u001b[39;49m\u001b[38;5;28;43mself\u001b[39;49m\u001b[38;5;241;43m.\u001b[39;49m\u001b[43moptions\u001b[49m\u001b[38;5;241;43m.\u001b[39;49m\u001b[43mget\u001b[49m\u001b[43m(\u001b[49m\u001b[38;5;124;43m\"\u001b[39;49m\u001b[38;5;124;43mencoding_errors\u001b[39;49m\u001b[38;5;124;43m\"\u001b[39;49m\u001b[43m,\u001b[49m\u001b[43m \u001b[49m\u001b[38;5;124;43m\"\u001b[39;49m\u001b[38;5;124;43mstrict\u001b[39;49m\u001b[38;5;124;43m\"\u001b[39;49m\u001b[43m)\u001b[49m\u001b[43m,\u001b[49m\n\u001b[1;32m   1888\u001b[0m \u001b[43m    \u001b[49m\u001b[43mstorage_options\u001b[49m\u001b[38;5;241;43m=\u001b[39;49m\u001b[38;5;28;43mself\u001b[39;49m\u001b[38;5;241;43m.\u001b[39;49m\u001b[43moptions\u001b[49m\u001b[38;5;241;43m.\u001b[39;49m\u001b[43mget\u001b[49m\u001b[43m(\u001b[49m\u001b[38;5;124;43m\"\u001b[39;49m\u001b[38;5;124;43mstorage_options\u001b[39;49m\u001b[38;5;124;43m\"\u001b[39;49m\u001b[43m,\u001b[49m\u001b[43m \u001b[49m\u001b[38;5;28;43;01mNone\u001b[39;49;00m\u001b[43m)\u001b[49m\u001b[43m,\u001b[49m\n\u001b[1;32m   1889\u001b[0m \u001b[43m\u001b[49m\u001b[43m)\u001b[49m\n\u001b[1;32m   1890\u001b[0m \u001b[38;5;28;01massert\u001b[39;00m \u001b[38;5;28mself\u001b[39m\u001b[38;5;241m.\u001b[39mhandles \u001b[38;5;129;01mis\u001b[39;00m \u001b[38;5;129;01mnot\u001b[39;00m \u001b[38;5;28;01mNone\u001b[39;00m\n\u001b[1;32m   1891\u001b[0m f \u001b[38;5;241m=\u001b[39m \u001b[38;5;28mself\u001b[39m\u001b[38;5;241m.\u001b[39mhandles\u001b[38;5;241m.\u001b[39mhandle\n",
      "File \u001b[0;32m~/miniconda3/envs/watermark/lib/python3.11/site-packages/pandas/io/common.py:873\u001b[0m, in \u001b[0;36mget_handle\u001b[0;34m(path_or_buf, mode, encoding, compression, memory_map, is_text, errors, storage_options)\u001b[0m\n\u001b[1;32m    868\u001b[0m \u001b[38;5;28;01melif\u001b[39;00m \u001b[38;5;28misinstance\u001b[39m(handle, \u001b[38;5;28mstr\u001b[39m):\n\u001b[1;32m    869\u001b[0m     \u001b[38;5;66;03m# Check whether the filename is to be opened in binary mode.\u001b[39;00m\n\u001b[1;32m    870\u001b[0m     \u001b[38;5;66;03m# Binary mode does not support 'encoding' and 'newline'.\u001b[39;00m\n\u001b[1;32m    871\u001b[0m     \u001b[38;5;28;01mif\u001b[39;00m ioargs\u001b[38;5;241m.\u001b[39mencoding \u001b[38;5;129;01mand\u001b[39;00m \u001b[38;5;124m\"\u001b[39m\u001b[38;5;124mb\u001b[39m\u001b[38;5;124m\"\u001b[39m \u001b[38;5;129;01mnot\u001b[39;00m \u001b[38;5;129;01min\u001b[39;00m ioargs\u001b[38;5;241m.\u001b[39mmode:\n\u001b[1;32m    872\u001b[0m         \u001b[38;5;66;03m# Encoding\u001b[39;00m\n\u001b[0;32m--> 873\u001b[0m         handle \u001b[38;5;241m=\u001b[39m \u001b[38;5;28;43mopen\u001b[39;49m\u001b[43m(\u001b[49m\n\u001b[1;32m    874\u001b[0m \u001b[43m            \u001b[49m\u001b[43mhandle\u001b[49m\u001b[43m,\u001b[49m\n\u001b[1;32m    875\u001b[0m \u001b[43m            \u001b[49m\u001b[43mioargs\u001b[49m\u001b[38;5;241;43m.\u001b[39;49m\u001b[43mmode\u001b[49m\u001b[43m,\u001b[49m\n\u001b[1;32m    876\u001b[0m \u001b[43m            \u001b[49m\u001b[43mencoding\u001b[49m\u001b[38;5;241;43m=\u001b[39;49m\u001b[43mioargs\u001b[49m\u001b[38;5;241;43m.\u001b[39;49m\u001b[43mencoding\u001b[49m\u001b[43m,\u001b[49m\n\u001b[1;32m    877\u001b[0m \u001b[43m            \u001b[49m\u001b[43merrors\u001b[49m\u001b[38;5;241;43m=\u001b[39;49m\u001b[43merrors\u001b[49m\u001b[43m,\u001b[49m\n\u001b[1;32m    878\u001b[0m \u001b[43m            \u001b[49m\u001b[43mnewline\u001b[49m\u001b[38;5;241;43m=\u001b[39;49m\u001b[38;5;124;43m\"\u001b[39;49m\u001b[38;5;124;43m\"\u001b[39;49m\u001b[43m,\u001b[49m\n\u001b[1;32m    879\u001b[0m \u001b[43m        \u001b[49m\u001b[43m)\u001b[49m\n\u001b[1;32m    880\u001b[0m     \u001b[38;5;28;01melse\u001b[39;00m:\n\u001b[1;32m    881\u001b[0m         \u001b[38;5;66;03m# Binary mode\u001b[39;00m\n\u001b[1;32m    882\u001b[0m         handle \u001b[38;5;241m=\u001b[39m \u001b[38;5;28mopen\u001b[39m(handle, ioargs\u001b[38;5;241m.\u001b[39mmode)\n",
      "\u001b[0;31mFileNotFoundError\u001b[0m: [Errno 2] No such file or directory: './raw.csv'"
     ]
    }
   ],
   "source": [
    "import pandas as pd\n",
    "import numpy as np\n",
    "df = pd.read_csv('./raw.csv', header=None)\n",
    "print(df)"
   ]
  },
  {
   "cell_type": "code",
   "execution_count": null,
   "id": "e0abbdf7-976c-4945-8dcd-8c81664694c2",
   "metadata": {},
   "outputs": [],
   "source": [
    "df=df.round(0)\n",
    "df"
   ]
  },
  {
   "cell_type": "code",
   "execution_count": 19,
   "id": "ef36210e",
   "metadata": {},
   "outputs": [
    {
     "data": {
      "text/plain": [
       "500"
      ]
     },
     "execution_count": 19,
     "metadata": {},
     "output_type": "execute_result"
    }
   ],
   "source": [
    "res = []\n",
    "for i in range(500):\n",
    "    a = df.iloc[i, 1:].tolist()\n",
    "#     a.sort(reverse=True)\n",
    "#     print(a)\n",
    "    res.append(a)\n",
    "len(res)"
   ]
  },
  {
   "cell_type": "code",
   "execution_count": 20,
   "id": "9fa6086c",
   "metadata": {},
   "outputs": [
    {
     "name": "stdout",
     "output_type": "stream",
     "text": [
      "40\n",
      "[0, 0, 0, 0, 0, 0, 0, 0, 0, 0, 4, 8, 20, 22, 33, 34, 42, 46, 28, 27, 25, 18, 20, 28, 18, 19, 20, 33, 16, 15, 4, 8, 4, 2, 3, 3, 0, 0, 0, 0]\n"
     ]
    }
   ],
   "source": [
    "res_first = [0 for i in range(40)]\n",
    "print(len(res_first))\n",
    "for i in range(500):\n",
    "    a = res[i][0]\n",
    "    res_first[int(a)]+=1\n",
    "print(res_first)"
   ]
  },
  {
   "cell_type": "code",
   "execution_count": 21,
   "id": "466926b8-ce34-46de-a369-ad59fb805dad",
   "metadata": {},
   "outputs": [
    {
     "name": "stdout",
     "output_type": "stream",
     "text": [
      "40\n",
      "[0, 0, 0, 0, 0, 0, 0, 0, 0, 3, 9, 16, 22, 29, 43, 50, 62, 53, 54, 47, 32, 34, 14, 12, 10, 5, 2, 2, 1, 0, 0, 0, 0, 0, 0, 0, 0, 0, 0, 0]\n"
     ]
    }
   ],
   "source": [
    "res_second = [0 for i in range(40)]\n",
    "print(len(res_second))\n",
    "for i in range(500):\n",
    "    a = res[i][1]\n",
    "    res_second[int(a)]+=1\n",
    "print(res_second)"
   ]
  },
  {
   "cell_type": "code",
   "execution_count": 22,
   "id": "7d03475c-db50-4ba9-a889-12ad498fb860",
   "metadata": {},
   "outputs": [
    {
     "name": "stdout",
     "output_type": "stream",
     "text": [
      "40\n",
      "[0, 0, 0, 0, 0, 0, 0, 0, 0, 6, 10, 20, 25, 39, 45, 73, 61, 54, 55, 41, 27, 14, 13, 9, 6, 2, 0, 0, 0, 0, 0, 0, 0, 0, 0, 0, 0, 0, 0, 0]\n"
     ]
    }
   ],
   "source": [
    "res_third = [0 for i in range(40)]\n",
    "print(len(res_third))\n",
    "for i in range(500):\n",
    "    a = res[i][2]\n",
    "    res_third[int(a)]+=1\n",
    "print(res_third)"
   ]
  },
  {
   "cell_type": "code",
   "execution_count": 23,
   "id": "fa5d625f-b249-4b39-875b-668bd2665a2b",
   "metadata": {
    "scrolled": true
   },
   "outputs": [
    {
     "name": "stdout",
     "output_type": "stream",
     "text": [
      "40\n",
      "[0, 0, 0, 0, 0, 0, 0, 0, 0, 12, 9, 26, 27, 42, 51, 83, 60, 62, 57, 44, 17, 5, 3, 1, 1, 0, 0, 0, 0, 0, 0, 0, 0, 0, 0, 0, 0, 0, 0, 0]\n"
     ]
    }
   ],
   "source": [
    "res_forth = [0 for i in range(40)]\n",
    "print(len(res_forth))\n",
    "for i in range(500):\n",
    "    a = res[i][3]\n",
    "    res_forth[int(a)]+=1\n",
    "print(res_forth)"
   ]
  },
  {
   "cell_type": "code",
   "execution_count": 24,
   "id": "490c587a-8629-469e-87ae-66f601c377aa",
   "metadata": {},
   "outputs": [
    {
     "name": "stdout",
     "output_type": "stream",
     "text": [
      "40\n",
      "[0, 0, 0, 0, 0, 0, 0, 0, 0, 12, 15, 30, 26, 56, 56, 84, 71, 57, 51, 33, 6, 2, 1, 0, 0, 0, 0, 0, 0, 0, 0, 0, 0, 0, 0, 0, 0, 0, 0, 0]\n"
     ]
    }
   ],
   "source": [
    "res_fifth = [0 for i in range(40)]\n",
    "print(len(res_fifth))\n",
    "for i in range(500):\n",
    "    a = res[i][4]\n",
    "    res_fifth[int(a)]+=1\n",
    "print(res_fifth)"
   ]
  },
  {
   "cell_type": "code",
   "execution_count": 28,
   "id": "e9372827-6561-4081-a355-7b1f58d6bcc9",
   "metadata": {},
   "outputs": [
    {
     "name": "stdout",
     "output_type": "stream",
     "text": [
      "STIXSizeThreeSym\n",
      "DejaVu Sans\n",
      "DejaVu Serif\n",
      "cmex10\n",
      "DejaVu Serif\n",
      "STIXSizeThreeSym\n",
      "cmb10\n",
      "STIXGeneral\n",
      "STIXNonUnicode\n",
      "cmss10\n",
      "DejaVu Serif\n",
      "STIXSizeFourSym\n",
      "cmtt10\n",
      "STIXNonUnicode\n",
      "STIXGeneral\n",
      "STIXSizeFiveSym\n",
      "STIXSizeFourSym\n",
      "STIXSizeOneSym\n",
      "DejaVu Sans Mono\n",
      "DejaVu Sans Mono\n",
      "DejaVu Sans Mono\n",
      "STIXGeneral\n",
      "STIXNonUnicode\n",
      "STIXGeneral\n",
      "STIXSizeTwoSym\n",
      "DejaVu Sans Mono\n",
      "DejaVu Serif\n",
      "DejaVu Serif Display\n",
      "STIXNonUnicode\n",
      "cmsy10\n",
      "DejaVu Sans\n",
      "DejaVu Sans Display\n",
      "STIXSizeOneSym\n",
      "DejaVu Sans\n",
      "STIXSizeTwoSym\n",
      "DejaVu Sans\n",
      "cmr10\n",
      "cmmi10\n",
      "STIXVariants\n",
      "Noto Sans Kannada\n",
      ".SF Hebrew Rounded\n",
      "STIXGeneral\n",
      "Noto Sans Siddham\n",
      "Courier New\n",
      "Arial Rounded MT Bold\n",
      "Apple Braille\n",
      "Georgia\n",
      "Noto Sans Buginese\n",
      "Noto Sans Glagolitic\n",
      "Chalkduster\n",
      "Noto Sans Saurashtra\n",
      "Wingdings\n",
      "Raanana\n",
      "Noto Sans Khudawadi\n",
      "Noto Sans Masaram Gondi\n",
      "Chalkboard\n",
      "Noto Serif Myanmar\n",
      "STIXSizeOneSym\n",
      "Arial\n",
      "Lao MN\n",
      "InaiMathi\n",
      "Arial\n",
      "STFangsong\n",
      "STIXSizeTwoSym\n",
      "Noto Sans Chakma\n",
      "Trebuchet MS\n",
      ".SF Compact Rounded\n",
      ".New York\n",
      "Hiragino Sans\n",
      "Bodoni 72 Oldstyle\n",
      "STIXNonUnicode\n",
      "Noto Sans Ugaritic\n",
      "Mishafi Gold\n",
      ".SF Georgian Rounded\n",
      "Verdana\n",
      "Noto Nastaliq Urdu\n",
      "Athelas\n",
      "Tahoma\n",
      "Xingkai SC\n",
      "Noto Sans Tagalog\n",
      "Noto Sans Carian\n",
      ".SF Arabic Rounded\n",
      "Noto Sans Tai Tham\n",
      "Noto Sans New Tai Lue\n",
      "Arial Narrow\n",
      "Apple Braille\n",
      "Noto Sans NKo\n",
      "Trebuchet MS\n",
      "Noto Sans Multani\n",
      "System Font\n",
      "Trebuchet MS\n",
      "PT Sans\n",
      "Diwan Thuluth\n",
      "Noto Sans Bassa Vah\n",
      "Noto Sans Old Persian\n",
      "Farisi\n",
      "Times New Roman\n",
      "PingFang HK\n",
      "Noto Sans Wancho\n",
      ".New York\n",
      "Arial Black\n",
      "Noto Sans Avestan\n",
      "Comic Sans MS\n",
      "Wingdings 2\n",
      "Hiragino Sans\n",
      "Myanmar Sangam MN\n",
      "Noto Sans Lydian\n",
      "Noto Sans Ol Chiki\n",
      "Times\n",
      "STIXSizeThreeSym\n",
      "Noto Sans Batak\n",
      "Copperplate\n",
      "Noto Sans Buhid\n",
      "Noto Sans Elbasan\n",
      "Apple Symbols\n",
      "Noto Sans Cham\n",
      "Noto Sans Pahawh Hmong\n",
      "Arial Narrow\n",
      "Superclarendon\n",
      "Bodoni 72\n",
      ".CJK Symbols Fallback HK\n",
      "Kefa\n",
      "Noto Serif Yezidi\n",
      "Noto Sans Newa\n",
      "Noto Sans Kharoshthi\n",
      "Telugu MN\n",
      "Noto Sans Mende Kikakui\n",
      "Hannotate SC\n",
      "Al Nile\n",
      "Savoye LET\n",
      "Noto Sans Inscriptional Parthian\n",
      "Iowan Old Style\n",
      "Skia\n",
      ".SF Armenian\n",
      "STIXIntegralsUpD\n",
      "Verdana\n",
      "Noto Sans Tifinagh\n",
      "Georgia\n",
      "Brush Script MT\n",
      ".SF Camera\n",
      "Times New Roman\n",
      "Gujarati Sangam MN\n",
      "Noto Sans Tagbanwa\n",
      ".ThonburiUI\n",
      "Kohinoor Devanagari\n",
      "Noto Sans Old Hungarian\n",
      "Noto Sans Miao\n",
      "Noto Sans Syloti Nagri\n",
      "Bradley Hand\n",
      "STIX Two Text\n",
      "Bangla Sangam MN\n",
      "Khmer Sangam MN\n",
      "Noto Sans Cypriot\n",
      "Gurmukhi MN\n",
      "Avenir Next\n",
      "Noto Sans Lycian\n",
      "Noto Sans Old Permic\n",
      "Al Bayan\n",
      "Chalkboard SE\n",
      "STIXIntegralsSm\n",
      "Waseem\n",
      "Silom\n",
      "Noto Sans Hanunoo\n",
      "Euphemia UCAS\n",
      "Cochin\n",
      "Noto Serif Ahom\n",
      ".SF NS Mono\n",
      "Noto Sans Mongolian\n",
      "Optima\n",
      "Times New Roman\n",
      "Noto Sans Syriac\n",
      "Noto Sans Bhaiksuki\n",
      "Arial Narrow\n",
      ".SF Arabic\n",
      "STIXSizeThreeSym\n",
      "Herculanum\n",
      "Courier New\n",
      "PT Mono\n",
      "Oriya MN\n",
      "Malayalam Sangam MN\n",
      "Tamil Sangam MN\n",
      "Noto Sans Old North Arabian\n",
      "Heiti TC\n",
      ".SF Compact\n",
      "Luminari\n",
      "Tamil MN\n",
      "Noto Sans Old Turkic\n",
      "Noto Sans Cuneiform\n",
      "Mshtakan\n",
      "Krungthep\n",
      "Noto Sans Marchen\n",
      "Apple SD Gothic Neo\n",
      "Noto Sans Rejang\n",
      "Noto Sans Hatran\n",
      "Helvetica\n",
      "Hiragino Sans\n",
      "Wingdings 3\n",
      "Arial Unicode MS\n",
      "STIXNonUnicode\n",
      ".SF NS Mono\n",
      "Kokonor\n",
      "Symbol\n",
      "Party LET\n",
      "Arial Hebrew\n",
      "Noto Sans Sundanese\n",
      ".Aqua Kana\n",
      "Verdana\n",
      "Diwan Kufi\n",
      "Noto Serif Hmong Nyiakeng\n",
      "Noto Sans Oriya\n",
      "Noto Sans Linear B\n",
      "Noto Sans Adlam\n",
      "Kailasa\n",
      ".Keyboard\n",
      "Al Tarikh\n",
      "Noto Sans Takri\n",
      "STIXSizeFourSym\n",
      "Noto Sans Lisu\n",
      "STHeiti\n",
      "Noto Sans Tirhuta\n",
      "Noto Sans Kaithi\n",
      "Myanmar MN\n",
      "Apple Braille\n",
      "Microsoft Sans Serif\n",
      "Noto Sans Myanmar\n",
      "Hiragino Sans\n",
      "Helvetica Neue\n",
      "Hiragino Sans\n",
      "Marker Felt\n",
      "STIXSizeFourSym\n",
      "Arial\n",
      "Khmer MN\n",
      "STIXNonUnicode\n",
      "Noto Sans Thaana\n",
      "Noto Sans Vai\n",
      "Mishafi\n",
      "KufiStandardGK\n",
      "Noto Sans Hanifi Rohingya\n",
      "Sinhala MN\n",
      "Baghdad\n",
      "STIXGeneral\n",
      "Snell Roundhand\n",
      "Plantagenet Cherokee\n",
      "Gurmukhi Sangam MN\n",
      "Noto Serif Balinese\n",
      "Gujarati MT\n",
      "Noto Sans Old Italic\n",
      "Noto Sans Osmanya\n",
      "New Peninim MT\n",
      "STIXNonUnicode\n",
      "Noto Sans Phoenician\n",
      "Noto Sans Sora Sompeng\n",
      "STIXGeneral\n",
      "DIN Alternate\n",
      "AppleGothic\n",
      "Georgia\n",
      "Menlo\n",
      "Galvji\n",
      "Noto Sans Brahmi\n",
      "Impact\n",
      "STIXSizeTwoSym\n",
      "Kannada MN\n",
      "Noto Sans Bamum\n",
      "Arial\n",
      "Shree Devanagari 714\n",
      "Songti SC\n",
      "STIX Two Math\n",
      "Trebuchet MS\n",
      "Farah\n",
      "Seravek\n",
      "Oriya Sangam MN\n",
      "Noto Sans Modi\n",
      "Zapfino\n",
      "Noto Sans Mandaic\n",
      "STIXIntegralsUp\n",
      "Futura\n",
      "Geeza Pro\n",
      "Yuanti SC\n",
      "Beirut\n",
      ".SF NS Rounded\n",
      "Hiragino Sans\n",
      "PT Serif\n",
      "Noto Sans Egyptian Hieroglyphs\n",
      "STIXIntegralsD\n",
      "Noto Sans Sharada\n",
      "Academy Engraved LET\n",
      "Sukhumvit Set\n",
      "Hoefler Text\n",
      "Noto Sans Inscriptional Pahlavi\n",
      "Bangla MN\n",
      "Big Caslon\n",
      "Telugu Sangam MN\n",
      "System Font\n",
      "Noto Sans Gunjala Gondi\n",
      "Sana\n",
      "Comic Sans MS\n",
      "STIXIntegralsSm\n",
      ".SF Compact\n",
      "Bodoni 72 Smallcaps\n",
      "American Typewriter\n",
      "Noto Sans Imperial Aramaic\n",
      "Hiragino Sans GB\n",
      "Charter\n",
      "Devanagari Sangam MN\n",
      "Noto Sans Tai Viet\n",
      "AppleMyungjo\n",
      "Sathu\n",
      "Gill Sans\n",
      "Phosphate\n",
      "Noto Sans Palmyrene\n",
      "Kannada Sangam MN\n",
      "Noto Sans Canadian Aboriginal\n",
      "STIXVariants\n",
      "Nadeem\n",
      "Kaiti SC\n",
      "Hiragino Sans\n",
      "Bodoni Ornaments\n",
      "HanziPen SC\n",
      "Monaco\n",
      "Malayalam MN\n",
      "Apple Chancery\n",
      "Sinhala Sangam MN\n",
      "STIXIntegralsUpD\n",
      "Hiragino Sans\n",
      "Noto Sans Old South Arabian\n",
      "Andale Mono\n",
      "Muna\n",
      "Mukta Mahee\n",
      "Devanagari MT\n",
      "Courier New\n",
      "Noto Sans Meroitic\n",
      "STIXIntegralsUpSm\n",
      "Noto Sans Limbu\n",
      ".SF Armenian Rounded\n",
      "Webdings\n",
      "Noto Sans Kayah Li\n",
      "Noto Sans Yi\n",
      "Geneva\n",
      "Apple Braille\n",
      "STIXIntegralsD\n",
      ".SF Georgian\n",
      "Noteworthy\n",
      "Gurmukhi MT\n",
      "Marion\n",
      "ITF Devanagari\n",
      "STIXSizeOneSym\n",
      "Noto Sans Armenian\n",
      "BM Hanna Pro\n",
      "Hiragino Maru Gothic Pro\n",
      "Avenir Next Condensed\n",
      "Noto Sans Duployan\n",
      "STIXSizeFiveSym\n",
      "Noto Sans Nabataean\n",
      "Noto Sans Javanese\n",
      "Thonburi\n",
      "Corsiva Hebrew\n",
      ".SF Hebrew\n",
      "Hoefler Text\n",
      "DecoType Naskh\n",
      "Lao Sangam MN\n",
      "Kohinoor Telugu\n",
      "Lucida Grande\n",
      "Tahoma\n",
      "Rockwell\n",
      "Courier\n",
      "Noto Sans Lepcha\n",
      "Arial Narrow\n",
      "Hiragino Sans\n",
      "LiSong Pro\n",
      ".SF Soft Numeric\n",
      "Hiragino Mincho ProN\n",
      "PT Serif Caption\n",
      "Noto Sans Mro\n",
      "Noto Sans Khojki\n",
      "Noto Sans Coptic\n",
      "Courier New\n",
      "Noto Sans Gothic\n",
      "Noto Sans Meetei Mayek\n",
      "STIXIntegralsUpSm\n",
      "DIN Condensed\n",
      "Noto Sans Linear A\n",
      "Kohinoor Bangla\n",
      "Noto Sans Caucasian Albanian\n",
      "STIX Two Text\n",
      "Papyrus\n",
      "Noto Sans Osage\n",
      "Hiragino Sans\n",
      "Palatino\n",
      "Georgia\n",
      "Noto Sans Samaritan\n",
      "Noto Sans Tai Le\n",
      "Ayuthaya\n",
      "SignPainter\n",
      "Times New Roman\n",
      "Noto Sans Psalter Pahlavi\n",
      "Heiti TC\n",
      "Verdana\n",
      "STIXIntegralsUp\n",
      "Noto Sans Manichaean\n",
      "Baskerville\n",
      "Noto Sans PhagsPa\n",
      "Didot\n",
      "Zapf Dingbats\n",
      "Damascus\n",
      "STIXGeneral\n",
      "Noto Sans Warang Citi\n",
      "Avenir\n",
      "Noto Sans Mahajani\n",
      "Trattatello\n",
      "Noto Sans Pau Cin Hau\n",
      "Apple Braille\n",
      "Kohinoor Gujarati\n",
      "Arial Unicode MS\n"
     ]
    }
   ],
   "source": [
    "import matplotlib.font_manager as fm\n",
    "for font in fm.fontManager.ttflist:\n",
    "    print(font.name)"
   ]
  },
  {
   "cell_type": "code",
   "execution_count": 1,
   "id": "c644d520",
   "metadata": {},
   "outputs": [
    {
     "ename": "NameError",
     "evalue": "name 'res_first' is not defined",
     "output_type": "error",
     "traceback": [
      "\u001b[0;31m---------------------------------------------------------------------------\u001b[0m",
      "\u001b[0;31mNameError\u001b[0m                                 Traceback (most recent call last)",
      "Cell \u001b[0;32mIn[1], line 7\u001b[0m\n\u001b[1;32m      5\u001b[0m plt\u001b[38;5;241m.\u001b[39mfigure(figsize\u001b[38;5;241m=\u001b[39m(\u001b[38;5;241m16\u001b[39m, \u001b[38;5;241m10\u001b[39m))\n\u001b[1;32m      6\u001b[0m labels \u001b[38;5;241m=\u001b[39m [i \u001b[38;5;28;01mfor\u001b[39;00m i \u001b[38;5;129;01min\u001b[39;00m \u001b[38;5;28mrange\u001b[39m(\u001b[38;5;241m40\u001b[39m)]\n\u001b[0;32m----> 7\u001b[0m x \u001b[38;5;241m=\u001b[39m [i \u001b[38;5;28;01mfor\u001b[39;00m i \u001b[38;5;129;01min\u001b[39;00m \u001b[38;5;28mrange\u001b[39m(\u001b[38;5;28mlen\u001b[39m(\u001b[43mres_first\u001b[49m))]\n\u001b[1;32m      8\u001b[0m labels\u001b[38;5;241m=\u001b[39m[i \u001b[38;5;28;01mfor\u001b[39;00m i \u001b[38;5;129;01min\u001b[39;00m \u001b[38;5;28mrange\u001b[39m(\u001b[38;5;241m40\u001b[39m)]\n\u001b[1;32m      9\u001b[0m plt\u001b[38;5;241m.\u001b[39mxticks(np\u001b[38;5;241m.\u001b[39marange(\u001b[38;5;241m1\u001b[39m, \u001b[38;5;241m41\u001b[39m, step\u001b[38;5;241m=\u001b[39m\u001b[38;5;241m5\u001b[39m))  \u001b[38;5;66;03m# 每隔5个单位显示一个刻度\u001b[39;00m\n",
      "\u001b[0;31mNameError\u001b[0m: name 'res_first' is not defined"
     ]
    },
    {
     "data": {
      "text/plain": [
       "<Figure size 1600x1000 with 0 Axes>"
      ]
     },
     "metadata": {},
     "output_type": "display_data"
    }
   ],
   "source": [
    "import matplotlib.pyplot as plt\n",
    "plt.rcParams['font.family']=['Songti SC']\n",
    "plt.rcParams.update({'font.size': 25})\n",
    "\n",
    "plt.figure(figsize=(16, 10))\n",
    "labels = [i for i in range(40)]\n",
    "x = [i for i in range(len(res_first))]\n",
    "labels=[i for i in range(40)]\n",
    "plt.xticks(np.arange(1, 41, step=5))  # 每隔5个单位显示一个刻度\n",
    "plt.xlim(1, 40)\n",
    "plt.plot(x, res_first, label=\"第1候选项\", linestyle='--', marker='*', markersize=10, color='blue', linewidth=2)\n",
    "plt.plot(x, res_second, label=\"第2候选项\", marker='o', markersize=10, color='black', linewidth=2)\n",
    "plt.plot(x, res_third, label=\"第3候选项\", linestyle='-.', marker='^', markersize=10, color='red', linewidth=2)\n",
    "plt.plot(x, res_forth, label=\"第4候选项\", linestyle=':', marker='+', markersize=10, color='green', linewidth=2)\n",
    "plt.plot(x, res_fifth, label=\"第5候选项\", marker='+', markersize=10, color='orange', linewidth=2)\n",
    "plt.grid(True)\n",
    "plt.xlabel('Logit值')\n",
    "plt.ylabel('字符数量')\n",
    "plt.tick_params(axis='both', which='major', labelsize=25)\n",
    "plt.legend()\n",
    "# plt.show()\n",
    "plt.savefig('distribution.png')"
   ]
  },
  {
   "cell_type": "code",
   "execution_count": 112,
   "id": "e1b759ce",
   "metadata": {},
   "outputs": [
    {
     "data": {
      "text/plain": [
       "<matplotlib.legend.Legend at 0x7f425e5e8880>"
      ]
     },
     "execution_count": 112,
     "metadata": {},
     "output_type": "execute_result"
    },
    {
     "data": {
      "image/png": "[encoded data removed]",
      "text/plain": [
       "<Figure size 640x480 with 1 Axes>"
      ]
     },
     "metadata": {},
     "output_type": "display_data"
    }
   ],
   "source": [
    "kwargs = dict(histtype='stepfilled', alpha=0.3, bins=15)\n",
    "plt.hist(first, **kwargs, label='first')\n",
    "plt.hist(second, **kwargs, label='second')\n",
    "plt.hist(third, **kwargs, label='third')\n",
    "plt.legend()\n"
   ]
  },
  {
   "cell_type": "code",
   "execution_count": 45,
   "id": "cfd50c3b",
   "metadata": {},
   "outputs": [
    {
     "name": "stdout",
     "output_type": "stream",
     "text": [
      "    gamma  delta  correct  incorrect      rate\n",
      "0     0.5      0     1011        989  0.505500\n",
      "1     0.5      1     1397        603  0.698500\n",
      "2     0.5      2     1419        381  0.788333\n",
      "3     0.5      3     1210        190  0.864286\n",
      "4     0.5      4     1815        185  0.907500\n",
      "5     0.5      5     1878        122  0.939000\n",
      "6     0.5      6     1732         68  0.962222\n",
      "7     0.5      7     1572         28  0.982500\n",
      "8     0.5      8     1583         17  0.989375\n",
      "9     0.5      9     1592          4  0.997494\n",
      "10    0.5     10     1199          1  0.999167\n"
     ]
    }
   ],
   "source": [
    "df = pd.read_csv('./green_chosen_rates.csv')\n",
    "print(df)"
   ]
  },
  {
   "cell_type": "code",
   "execution_count": 47,
   "id": "4f5717c3-974f-46ef-8f33-4ba001144beb",
   "metadata": {
    "scrolled": true
   },
   "outputs": [
    {
     "data": {
      "text/plain": [
       "[0.5055,\n",
       " 0.6985,\n",
       " 0.788333333,\n",
       " 0.864285714,\n",
       " 0.9075,\n",
       " 0.939,\n",
       " 0.962222222,\n",
       " 0.9825,\n",
       " 0.989375,\n",
       " 0.997493734,\n",
       " 0.999166667]"
      ]
     },
     "execution_count": 47,
     "metadata": {},
     "output_type": "execute_result"
    }
   ],
   "source": [
    "rate = df['rate'].tolist()\n",
    "rate"
   ]
  },
  {
   "cell_type": "code",
   "execution_count": 61,
   "id": "85d659df-744b-450d-88c1-a177f5a20e2c",
   "metadata": {},
   "outputs": [],
   "source": [
    "rate = [100*i for i in rate]"
   ]
  },
  {
   "cell_type": "code",
   "execution_count": 62,
   "id": "cdbf712e-063c-4fea-b83e-100529b37c89",
   "metadata": {},
   "outputs": [
    {
     "data": {
      "text/plain": [
       "[0, 1, 2, 3, 4, 5, 6, 7, 8, 9, 10]"
      ]
     },
     "execution_count": 62,
     "metadata": {},
     "output_type": "execute_result"
    }
   ],
   "source": [
    "x = [i for i in range(11)]\n",
    "x"
   ]
  },
  {
   "cell_type": "code",
   "execution_count": 64,
   "id": "fc79e302-eb63-4077-bb4a-c8ccd8d631cb",
   "metadata": {},
   "outputs": [
    {
     "data": {
      "image/png": "[encoded data removed]",
      "text/plain": [
       "<Figure size 800x600 with 1 Axes>"
      ]
     },
     "metadata": {},
     "output_type": "display_data"
    }
   ],
   "source": [
    "plt.rcParams['font.family']=['Songti SC']\n",
    "plt.rcParams.update({'font.size': 15})\n",
    "\n",
    "plt.figure(figsize=(8, 6))\n",
    "labels = [i for i in range(11)]\n",
    "x = [i for i in range(11)]\n",
    "plt.plot(x, rate, marker='o', markersize=10, color='black', linewidth=2)\n",
    "plt.grid(True)\n",
    "plt.xlabel(r\"$\\mathbb{\\tau}$\")\n",
    "plt.ylabel(r\"$p_{\\mathsf{good}}(\\%)$\")\n",
    "plt.tick_params(axis='both', which='major', labelsize=15)\n",
    "plt.savefig('rate.png')"
   ]
  },
  {
   "cell_type": "code",
   "execution_count": null,
   "id": "46272fbb-9fb2-42ca-a25e-a005681cc774",
   "metadata": {},
   "outputs": [],
   "source": []
  }
 ],
 "metadata": {
  "kernelspec": {
   "display_name": "Python 3 (ipykernel)",
   "language": "python",
   "name": "python3"
  },
  "language_info": {
   "codemirror_mode": {
    "name": "ipython",
    "version": 3
   },
   "file_extension": ".py",
   "mimetype": "text/x-python",
   "name": "python",
   "nbconvert_exporter": "python",
   "pygments_lexer": "ipython3",
   "version": "3.11.10"
  }
 },
 "nbformat": 4,
 "nbformat_minor": 5
}
